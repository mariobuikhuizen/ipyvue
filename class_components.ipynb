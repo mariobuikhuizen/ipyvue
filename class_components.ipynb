{
 "cells": [
  {
   "cell_type": "code",
   "execution_count": null,
   "metadata": {},
   "outputs": [],
   "source": [
    "import ipywidgets as widgets\n",
    "import ipyvue as vue\n",
    "from traitlets import (Dict, Unicode, List, Any)"
   ]
  },
  {
   "cell_type": "code",
   "execution_count": null,
   "metadata": {},
   "outputs": [],
   "source": [
    "mydiv = vue.Html(tag='div', children=['mydiv'])"
   ]
  },
  {
   "cell_type": "code",
   "execution_count": null,
   "metadata": {},
   "outputs": [],
   "source": [
    "class CoolComponent(vue.VueTemplate):\n",
    "    input = Unicode().tag(sync=True)\n",
    "    something = Unicode('defaultvalue').tag(sync=True)\n",
    "    template = Unicode('''\n",
    "        <div style=\"border: 1px solid green; margin: 2px\" @click=\"append_one()\">\n",
    "            [{{ something }}] input: {{ input }} \n",
    "        </div>\n",
    "    ''').tag(sync=True)\n",
    "    \n",
    "    def vue_append_one(self, *args):\n",
    "        self.input = f'{self.input}1'\n",
    "    \n",
    "CoolComponent(input='some text')    "
   ]
  },
  {
   "cell_type": "code",
   "execution_count": null,
   "metadata": {
    "scrolled": true
   },
   "outputs": [],
   "source": [
    "class Cls(vue.VueTemplate):\n",
    "    texts = List(['xxxx', 'yyyy']).tag(sync=True)\n",
    "    direct = Unicode('aaa').tag(sync=True)\n",
    "    template = Unicode('''\n",
    "        <div>\n",
    "            <div style=\"border: 1px solid black\">\n",
    "               <cool-component v-for=\"t in texts\" :input=\"t\" :key=\"t\" />\n",
    "            </div>\n",
    "            <cool-component :input=\"direct\" something=\"---\"/>\n",
    "            <w-button v-for=\"t in texts\" :description=\"t\" :key=\"t\" />\n",
    "            <w-button description=\"no v-for\"/>\n",
    "            <some-instance />\n",
    "        </div>\n",
    "    ''').tag(sync=True)\n",
    "\n",
    "cls = Cls(components={\n",
    "    'cool-component': CoolComponent,\n",
    "    'some-instance': mydiv,\n",
    "    'w-button': widgets.Button})   \n",
    "\n",
    "cls"
   ]
  },
  {
   "cell_type": "code",
   "execution_count": null,
   "metadata": {},
   "outputs": [],
   "source": [
    "cls.texts=['xxxx', 'zzzz']"
   ]
  },
  {
   "cell_type": "code",
   "execution_count": null,
   "metadata": {},
   "outputs": [],
   "source": [
    "cls._component_instances"
   ]
  },
  {
   "cell_type": "code",
   "execution_count": null,
   "metadata": {},
   "outputs": [],
   "source": [
    "cls.direct = 'bbb'"
   ]
  },
  {
   "cell_type": "markdown",
   "metadata": {},
   "source": [
    "# Non serializable properties"
   ]
  },
  {
   "cell_type": "code",
   "execution_count": null,
   "metadata": {},
   "outputs": [],
   "source": [
    "class ImNotSerializable():\n",
    "    def __init__(self, param):\n",
    "        self.param = param\n",
    "\n",
    "class NoSerComponent(vue.VueTemplate):\n",
    "    backend_only = Any()\n",
    "    input = Unicode('-').tag(sync=True)\n",
    "    template = Unicode('''\n",
    "        <div style=\"border: 1px solid green; margin: 2px\" @click=\"append_from_backend()\">\n",
    "            {{ input }}\n",
    "        </div>\n",
    "    ''').tag(sync=True)\n",
    "    \n",
    "    def vue_append_from_backend(self, *args):\n",
    "        self.input = f'{self.input} {self.backend_only.param}'\n",
    "        "
   ]
  },
  {
   "cell_type": "code",
   "execution_count": null,
   "metadata": {},
   "outputs": [],
   "source": [
    "class Cls2(vue.VueTemplate):\n",
    "    my_backend_only = Any().tag(sync_ref=True)\n",
    "    my_backend_only_collection = Any().tag(sync_ref=True)\n",
    "\n",
    "    template = Unicode('''\n",
    "        <div>\n",
    "            <p>Click on component to see content of backend object:</p>\n",
    "            \n",
    "            <no-ser input=\"value\" :backend_only=\"my_backend_only\" />\n",
    "            \n",
    "            <no-ser input=\"collection\" :backend_only=\"my_backend_only_collection['key1'][0]\" />\n",
    "            \n",
    "            <no-ser input=\"function\" :backend_only=\"{PY_FN: 'create_backend_only', args: ['with fn']}\" />\n",
    "        </div>\n",
    "    ''').tag(sync=True)\n",
    "    \n",
    "    components = Dict({\n",
    "        'no-ser': NoSerComponent\n",
    "    }).tag(sync=True, **vue.VueTemplate.class_component_serialization)\n",
    "   \n",
    "    def create_backend_only(self, param):\n",
    "        return ImNotSerializable(param)\n",
    "\n",
    "cls2 = Cls2(\n",
    "    my_backend_only=ImNotSerializable('my_backend_only'),\n",
    "    my_backend_only_collection={'key1': [ImNotSerializable('my_backend_only_collection[\"key1\"][0]')]},\n",
    ")   \n",
    "\n",
    "cls2"
   ]
  },
  {
   "cell_type": "code",
   "execution_count": null,
   "metadata": {},
   "outputs": [],
   "source": [
    "cls2.my_backend_only = ImNotSerializable('value changed')\n",
    "# click on first component again to see the change"
   ]
  },
  {
   "cell_type": "code",
   "execution_count": null,
   "metadata": {},
   "outputs": [],
   "source": [
    "cls2.my_backend_only_collection = {'key1': [ImNotSerializable('collection changed')]}\n",
    "# click on second component again to see the change"
   ]
  },
  {
   "cell_type": "code",
   "execution_count": null,
   "metadata": {},
   "outputs": [],
   "source": []
  }
 ],
 "metadata": {
  "kernelspec": {
   "display_name": "Python 3",
   "language": "python",
   "name": "python3"
  },
  "language_info": {
   "codemirror_mode": {
    "name": "ipython",
    "version": 3
   },
   "file_extension": ".py",
   "mimetype": "text/x-python",
   "name": "python",
   "nbconvert_exporter": "python",
   "pygments_lexer": "ipython3",
   "version": "3.7.3"
  }
 },
 "nbformat": 4,
 "nbformat_minor": 2
}
