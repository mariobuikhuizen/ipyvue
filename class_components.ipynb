{
 "cells": [
  {
   "cell_type": "code",
   "execution_count": null,
   "metadata": {},
   "outputs": [],
   "source": [
    "import ipywidgets as widgets\n",
    "import ipyvue as vue\n",
    "from traitlets import (Dict, Unicode, List)"
   ]
  },
  {
   "cell_type": "code",
   "execution_count": null,
   "metadata": {},
   "outputs": [],
   "source": [
    "mydiv = vue.Html(tag='div', children=['mydiv'])"
   ]
  },
  {
   "cell_type": "code",
   "execution_count": null,
   "metadata": {},
   "outputs": [],
   "source": [
    "class CoolComponent(vue.VueTemplate):\n",
    "    input = Unicode().tag(sync=True)\n",
    "    something = Unicode('defaultvalue').tag(sync=True)\n",
    "    template = Unicode('''\n",
    "        <div style=\"border: 1px solid green; margin: 2px\" @click=\"append_one()\">\n",
    "            [{{ something }}] input: {{ input }} \n",
    "        </div>\n",
    "    ''').tag(sync=True)\n",
    "    \n",
    "    def vue_append_one(self, *args):\n",
    "        self.input = f'{self.input}1'\n",
    "    \n",
    "CoolComponent(input='some text')    "
   ]
  },
  {
   "cell_type": "code",
   "execution_count": null,
   "metadata": {
    "scrolled": true
   },
   "outputs": [],
   "source": [
    "class Cls(vue.VueTemplate):\n",
    "    texts = List(['xxxx', 'yyyy']).tag(sync=True)\n",
    "    direct = Unicode('aaa').tag(sync=True)\n",
    "    template = Unicode('''\n",
    "        <div>\n",
    "            <div style=\"border: 1px solid black\">\n",
    "               <cool-component v-for=\"t in texts\" :input=\"t\" :key=\"t\" />\n",
    "            </div>\n",
    "            <cool-component :input=\"direct\" something=\"---\"/>\n",
    "            <w-button v-for=\"t in texts\" :description=\"t\" :key=\"t\" />\n",
    "            <w-button description=\"no v-for\"/>\n",
    "            <some-instance />\n",
    "        </div>\n",
    "    ''').tag(sync=True)\n",
    "\n",
    "cls = Cls(components={\n",
    "    'cool-component': CoolComponent,\n",
    "    'some-instance': mydiv,\n",
    "    'w-button': widgets.Button})   \n",
    "\n",
    "cls"
   ]
  },
  {
   "cell_type": "code",
   "execution_count": null,
   "metadata": {},
   "outputs": [],
   "source": [
    "cls.texts=['xxxx', 'zzzz']"
   ]
  },
  {
   "cell_type": "code",
   "execution_count": null,
   "metadata": {},
   "outputs": [],
   "source": [
    "cls._component_instances"
   ]
  },
  {
   "cell_type": "code",
   "execution_count": null,
   "metadata": {},
   "outputs": [],
   "source": [
    "cls.direct = 'bbb'"
   ]
  },
  {
   "cell_type": "code",
   "execution_count": null,
   "metadata": {},
   "outputs": [],
   "source": []
  }
 ],
 "metadata": {
  "kernelspec": {
   "display_name": "Python 3",
   "language": "python",
   "name": "python3"
  },
  "language_info": {
   "codemirror_mode": {
    "name": "ipython",
    "version": 3
   },
   "file_extension": ".py",
   "mimetype": "text/x-python",
   "name": "python",
   "nbconvert_exporter": "python",
   "pygments_lexer": "ipython3",
   "version": "3.7.3"
  }
 },
 "nbformat": 4,
 "nbformat_minor": 2
}
